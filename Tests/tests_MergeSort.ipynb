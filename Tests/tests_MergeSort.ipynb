{
 "cells": [
  {
   "cell_type": "markdown",
   "id": "0acdaf0d",
   "metadata": {},
   "source": [
    "# **Importing block**\n",
    "Let's import algorithm `MergeSort`."
   ]
  },
  {
   "cell_type": "code",
   "execution_count": 4,
   "id": "67bf9e58",
   "metadata": {},
   "outputs": [],
   "source": [
    "import random\n",
    "import sys\n",
    "import os\n",
    "\n",
    "# Add relative paths to module folders\n",
    "sys.path.append(os.path.abspath(\"../1 MergeSort\"))\n",
    "\n",
    "from MergeSort import MergeSort"
   ]
  },
  {
   "cell_type": "markdown",
   "id": "be0a7513",
   "metadata": {},
   "source": [
    "# **Testing Block**\n",
    "Let's test `MergeSort` with lists of length `n=10`."
   ]
  },
  {
   "cell_type": "code",
   "execution_count": 5,
   "id": "a68ae02f",
   "metadata": {},
   "outputs": [
    {
     "name": "stdout",
     "output_type": "stream",
     "text": [
      "List: [7, 6, 4, 8, 2, 6, 3, 6, 8, 1]\n",
      "Sorted List: [1, 2, 3, 4, 6, 6, 6, 7, 8, 8]\n",
      "\n"
     ]
    }
   ],
   "source": [
    "n = 10\n",
    "\n",
    "A = [random.randint(1, n) for _ in range(n)]\n",
    "print(f\"List: {A}\")\n",
    "MergeSort(A)\n",
    "print(f\"Sorted List: {A}\\n\")"
   ]
  },
  {
   "cell_type": "markdown",
   "id": "668ccb70",
   "metadata": {},
   "source": [
    "# **Algorithm Correctness Verification**\n",
    "We show that the algorithm works correctly (sorting) compared to a well-known method within lists: `list.sort()`. We order `m=1000000` different random lists (of size `n=10`)."
   ]
  },
  {
   "cell_type": "code",
   "execution_count": 6,
   "id": "89ee6c6a",
   "metadata": {},
   "outputs": [
    {
     "name": "stdout",
     "output_type": "stream",
     "text": [
      "True\n"
     ]
    }
   ],
   "source": [
    "m = 1000000\n",
    "n = 10\n",
    "test = 0\n",
    "for _ in range(m):\n",
    "  A = [random.randint(1, n) for _ in range(n)]\n",
    "  B = list(A)\n",
    "  test += MergeSort(B) == A.sort()\n",
    "print(test == m) #If the test is True, the MergeSort function works correctly."
   ]
  }
 ],
 "metadata": {
  "kernelspec": {
   "display_name": "Python 3",
   "language": "python",
   "name": "python3"
  },
  "language_info": {
   "codemirror_mode": {
    "name": "ipython",
    "version": 3
   },
   "file_extension": ".py",
   "mimetype": "text/x-python",
   "name": "python",
   "nbconvert_exporter": "python",
   "pygments_lexer": "ipython3",
   "version": "3.12.3"
  }
 },
 "nbformat": 4,
 "nbformat_minor": 5
}
