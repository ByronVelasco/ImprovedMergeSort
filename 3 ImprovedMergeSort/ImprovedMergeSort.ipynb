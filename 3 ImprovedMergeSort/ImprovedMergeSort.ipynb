{
  "cells": [
    {
      "cell_type": "markdown",
      "metadata": {},
      "source": [
        "## **Additional Libraries**"
      ]
    },
    {
      "cell_type": "code",
      "execution_count": 1,
      "metadata": {},
      "outputs": [],
      "source": [
        "from math import inf"
      ]
    },
    {
      "cell_type": "markdown",
      "metadata": {},
      "source": [
        "## **InsertionSort**"
      ]
    },
    {
      "cell_type": "code",
      "execution_count": 2,
      "metadata": {},
      "outputs": [],
      "source": [
        "def InsertionSort(A):\n",
        "  n = len(A)\n",
        "  for i in range(1, n):\n",
        "    key = A[i]\n",
        "    j = i-1\n",
        "    while j >= 0 and key < A[j]:\n",
        "      A[j+1] = A[j]\n",
        "      j -= 1\n",
        "    A[j+1] = key"
      ]
    },
    {
      "cell_type": "markdown",
      "metadata": {},
      "source": [
        "## **Improved Merge Sort Algorithm**"
      ]
    },
    {
      "cell_type": "code",
      "execution_count": 3,
      "metadata": {},
      "outputs": [],
      "source": [
        "def ImprovedMergeSort(A, k_threshold = 16):\n",
        "  if len(A) <= k_threshold:\n",
        "    InsertionSort(A)\n",
        "    return\n",
        "  half = len(A) // 2\n",
        "  left = A[:half]\n",
        "  right = A[half:]\n",
        "  ImprovedMergeSort(left, k_threshold)\n",
        "  ImprovedMergeSort(right, k_threshold)\n",
        "  left.append(inf)\n",
        "  right.append(inf)\n",
        "  i = j = 0\n",
        "  for k in range(len(A)):\n",
        "    if left[i] <= right[j]:\n",
        "      A[k] = left[i]\n",
        "      i += 1\n",
        "    else:\n",
        "      A[k] = right[j]\n",
        "      j += 1"
      ]
    }
  ],
  "metadata": {
    "colab": {
      "provenance": []
    },
    "kernelspec": {
      "display_name": "Python 3",
      "name": "python3"
    },
    "language_info": {
      "codemirror_mode": {
        "name": "ipython",
        "version": 3
      },
      "file_extension": ".py",
      "mimetype": "text/x-python",
      "name": "python",
      "nbconvert_exporter": "python",
      "pygments_lexer": "ipython3",
      "version": "3.12.3"
    }
  },
  "nbformat": 4,
  "nbformat_minor": 0
}
